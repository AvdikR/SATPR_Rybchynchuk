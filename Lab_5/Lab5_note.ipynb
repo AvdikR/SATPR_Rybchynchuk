{
 "cells": [
  {
   "cell_type": "markdown",
   "metadata": {},
   "source": [
    "Лабораторна робота №5. Робота Рибчинчука Вадима, група ПП-31(2).\n",
    "\n",
    "Додаємо пакет NumPy та побудови матриць та пророблення операцій з знаходження певних рядків та їх спрощення."
   ]
  },
  {
   "cell_type": "code",
   "execution_count": 3,
   "metadata": {},
   "outputs": [],
   "source": [
    "import numpy as np"
   ]
  },
  {
   "cell_type": "markdown",
   "metadata": {},
   "source": [
    "Введення матриць для першого та другого завдання"
   ]
  },
  {
   "cell_type": "code",
   "execution_count": 13,
   "metadata": {},
   "outputs": [
    {
     "name": "stdout",
     "output_type": "stream",
     "text": [
      "LabWork#5\n"
     ]
    }
   ],
   "source": [
    "print(\"LabWork#5\")\n",
    "# Задання матриці платежів для першого завдання\n",
    "payoff_matrix1 = np.array([\n",
    "    [1, 9, 6, 0],\n",
    "    [-2, 3, 8, 4],\n",
    "    [-5, -2, 10, -3],\n",
    "    [7, 4, -2, -5]\n",
    "])\n",
    "\n",
    "#Задання матриці платежів для дрцгого завдання\n",
    "payoff_matrix2 = np.array([\n",
    "    [-1, -2, -2],\n",
    "    [-3, -2, -1],\n",
    "    [-1, -1, -1]\n",
    "])\n"
   ]
  },
  {
   "cell_type": "markdown",
   "metadata": {},
   "source": [
    "Завдання 1. Обчислення та знаходження нижньої/верхньої ціни гри."
   ]
  },
  {
   "cell_type": "code",
   "execution_count": 12,
   "metadata": {},
   "outputs": [
    {
     "name": "stdout",
     "output_type": "stream",
     "text": [
      "Завдання 1\n",
      "Матриця платежів:\n",
      "[[ 1  9  6  0]\n",
      " [-2  3  8  4]\n",
      " [-5 -2 10 -3]\n",
      " [ 7  4 -2 -5]]\n",
      "\n",
      "Мінімальні значення для кожного рядка: [ 0 -2 -5 -5]\n",
      "Максимальні значення для кожного рядка: [ 9  8 10  7]\n",
      "Мінімальні значення для кожного стовпчика: [-5 -2 -2 -5]\n",
      "Максимальні значення для кожного стовпчика: [ 7  9 10  4]\n",
      "Нижня ціна гри: -5\n",
      "Верхня ціна гри: 10\n",
      "Мінімакс для стовпчиків B: 4\n",
      "Максмін для рядків A: 0\n"
     ]
    }
   ],
   "source": [
    "\n",
    "# Знаходження нижньої та верхньої ціни гри\n",
    "lower_price1 = np.min(payoff_matrix1)\n",
    "upper_price1 = np.max(payoff_matrix1)\n",
    "\n",
    "# Знаходження мінімального та максимального значення для кожного рядка\n",
    "min_row_values1 = np.min(payoff_matrix1, axis=1)\n",
    "max_row_values1 = np.max(payoff_matrix1, axis=1)\n",
    "\n",
    "# Знаходження мінімального та максимального значення для кожного стовпчика\n",
    "min_column_values1 = np.min(payoff_matrix1, axis=0)\n",
    "max_column_values1 = np.max(payoff_matrix1, axis=0)\n",
    "\n",
    "# Знаходження мінімакс для стовпчиків (максимум по мінімумам)\n",
    "minimax_column1 = np.min(np.max(payoff_matrix1, axis=0))\n",
    "\n",
    "# Знаходження максмін для рядків (мінімум по максимумах)\n",
    "maxmin_row1 = np.max(np.min(payoff_matrix1, axis=1))\n",
    "\n",
    "# Виведення результатів\n",
    "print(\"Завдання 1\")\n",
    "print(\"Матриця платежів:\")\n",
    "print(payoff_matrix1)\n",
    "print(\"\\nМінімальні значення для кожного рядка:\", min_row_values1)\n",
    "print(\"Максимальні значення для кожного рядка:\", max_row_values1)\n",
    "print(\"Мінімальні значення для кожного стовпчика:\", min_column_values1)\n",
    "print(\"Максимальні значення для кожного стовпчика:\", max_column_values1)\n",
    "print(\"Нижня ціна гри:\", lower_price1)\n",
    "print(\"Верхня ціна гри:\", upper_price1)\n",
    "print(\"Мінімакс для стовпчиків B:\", minimax_column1)\n",
    "print(\"Максмін для рядків A:\", maxmin_row1)"
   ]
  },
  {
   "cell_type": "markdown",
   "metadata": {},
   "source": [
    "Завдання 2. Обчислення та знаходження нижньої/верхньої ціни гри. Визначте всі чисті стратегії обох супротивників. Побудуйте платіжну матрицю, вважаючи гравцем 1 сторону, яка обороняється."
   ]
  },
  {
   "cell_type": "code",
   "execution_count": 14,
   "metadata": {},
   "outputs": [
    {
     "name": "stdout",
     "output_type": "stream",
     "text": [
      "Завдання 2\n",
      "Матриця платежів:\n",
      "[[-1 -2 -2]\n",
      " [-3 -2 -1]\n",
      " [-1 -1 -1]]\n",
      "\n",
      "Мінімальні значення для кожного рядка: [-2 -3 -1]\n",
      "Максимальні значення для кожного рядка: [-1 -1 -1]\n",
      "Мінімальні значення для кожного стовпчика: [-3 -2 -2]\n",
      "Максимальні значення для кожного стовпчика: [-1 -1 -1]\n",
      "Нижня ціна гри: -3\n",
      "Верхня ціна гри: -1\n",
      "Мінімакс для стовпчиків B: -1\n",
      "Максмін для рядків A: -1\n"
     ]
    }
   ],
   "source": [
    "# Знаходження нижньої та верхньої ціни гри\n",
    "lower_price2 = np.min(payoff_matrix2)\n",
    "upper_price2 = np.max(payoff_matrix2)\n",
    "\n",
    "# Знаходження мінімального та максимального значення для кожного рядка\n",
    "min_row_values2 = np.min(payoff_matrix2, axis=1)\n",
    "max_row_values2 = np.max(payoff_matrix2, axis=1)\n",
    "\n",
    "# Знаходження мінімального та максимального значення для кожного стовпчика\n",
    "min_column_values2 = np.min(payoff_matrix2, axis=0)\n",
    "max_column_values2 = np.max(payoff_matrix2, axis=0)\n",
    "\n",
    "# Знаходження мінімакс для стовпчиків (максимум по мінімумам)\n",
    "minimax_column2 = np.min(np.max(payoff_matrix2, axis=0))\n",
    "\n",
    "# Знаходження максмін для рядків (мінімум по максимумах)\n",
    "maxmin_row2 = np.max(np.min(payoff_matrix2, axis=1))\n",
    "\n",
    "# Виведення результатів\n",
    "print(\"Завдання 2\")\n",
    "print(\"Матриця платежів:\")\n",
    "print(payoff_matrix2)\n",
    "print(\"\\nМінімальні значення для кожного рядка:\", min_row_values2)\n",
    "print(\"Максимальні значення для кожного рядка:\", max_row_values2)\n",
    "print(\"Мінімальні значення для кожного стовпчика:\", min_column_values2)\n",
    "print(\"Максимальні значення для кожного стовпчика:\", max_column_values2)\n",
    "print(\"Нижня ціна гри:\", lower_price2)\n",
    "print(\"Верхня ціна гри:\", upper_price2)\n",
    "print(\"Мінімакс для стовпчиків B:\", minimax_column2)\n",
    "print(\"Максмін для рядків A:\", maxmin_row2)"
   ]
  }
 ],
 "metadata": {
  "kernelspec": {
   "display_name": "base",
   "language": "python",
   "name": "python3"
  },
  "language_info": {
   "codemirror_mode": {
    "name": "ipython",
    "version": 3
   },
   "file_extension": ".py",
   "mimetype": "text/x-python",
   "name": "python",
   "nbconvert_exporter": "python",
   "pygments_lexer": "ipython3",
   "version": "3.11.5"
  }
 },
 "nbformat": 4,
 "nbformat_minor": 2
}
