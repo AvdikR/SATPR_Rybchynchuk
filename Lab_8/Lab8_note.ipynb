{
 "cells": [
  {
   "cell_type": "markdown",
   "metadata": {},
   "source": [
    "Лабораторна робота 8. Варіант 3.\n",
    "Тема: Транспортна задача.\n",
    "\n",
    "Додаємо початкові пакети для викоання завдання."
   ]
  },
  {
   "cell_type": "code",
   "execution_count": 17,
   "metadata": {},
   "outputs": [],
   "source": [
    "import numpy as np\n",
    "import pandas as pd\n",
    "from pulp import LpMinimize, LpProblem, LpVariable, lpSum\n",
    "from scipy.optimize import linear_sum_assignment\n"
   ]
  },
  {
   "cell_type": "markdown",
   "metadata": {},
   "source": [
    "* <h3>Завдання 1(задача 7). Метод північно-західного кута.</h3>\n",
    "Створюємо метод північно-західного кута, який приймає на вхід елементи матриці(значення маршрутів) і двої масивів(потреби і постачання)."
   ]
  },
  {
   "cell_type": "code",
   "execution_count": 29,
   "metadata": {},
   "outputs": [],
   "source": [
    "# Метод північно-західного кута\n",
    "def northwest_corner_method(supply, demand, costs):\n",
    "    rows, cols = len(supply), len(demand)\n",
    "    allocation = np.zeros((rows, cols))\n",
    "\n",
    "    i, j = 0, 0\n",
    "\n",
    "    while i < rows and j < cols:\n",
    "        quantity = min(supply[i], demand[j])\n",
    "        allocation[i, j] = quantity\n",
    "        supply[i] -= quantity\n",
    "        demand[j] -= quantity\n",
    "\n",
    "        if supply[i] == 0:\n",
    "            i += 1\n",
    "        if demand[j] == 0:\n",
    "            j += 1\n",
    "\n",
    "    return allocation\n",
    "\n",
    "# Метод обчислення загальної вартості\n",
    "def calculate_total_cost(allocation, costs):\n",
    "    total_cost = np.sum(allocation * costs)\n",
    "    return total_cost\n"
   ]
  },
  {
   "cell_type": "markdown",
   "metadata": {},
   "source": [
    "Введення початкових данних. Створення матриці та двух масивів - потреби(b) і постачання(a). Виведення оптимального плану."
   ]
  },
  {
   "cell_type": "code",
   "execution_count": 31,
   "metadata": {},
   "outputs": [
    {
     "name": "stdout",
     "output_type": "stream",
     "text": [
      "Оптимальний план(таблиця маршрутів):\n"
     ]
    },
    {
     "data": {
      "text/html": [
       "<div>\n",
       "<style scoped>\n",
       "    .dataframe tbody tr th:only-of-type {\n",
       "        vertical-align: middle;\n",
       "    }\n",
       "\n",
       "    .dataframe tbody tr th {\n",
       "        vertical-align: top;\n",
       "    }\n",
       "\n",
       "    .dataframe thead th {\n",
       "        text-align: right;\n",
       "    }\n",
       "</style>\n",
       "<table border=\"1\" class=\"dataframe\">\n",
       "  <thead>\n",
       "    <tr style=\"text-align: right;\">\n",
       "      <th></th>\n",
       "      <th>1</th>\n",
       "      <th>2</th>\n",
       "      <th>3</th>\n",
       "      <th>4</th>\n",
       "      <th>5</th>\n",
       "    </tr>\n",
       "  </thead>\n",
       "  <tbody>\n",
       "    <tr>\n",
       "      <th>1</th>\n",
       "      <td>140.0</td>\n",
       "      <td>90.0</td>\n",
       "      <td>0.0</td>\n",
       "      <td>0.0</td>\n",
       "      <td>0.0</td>\n",
       "    </tr>\n",
       "    <tr>\n",
       "      <th>2</th>\n",
       "      <td>0.0</td>\n",
       "      <td>0.0</td>\n",
       "      <td>160.0</td>\n",
       "      <td>90.0</td>\n",
       "      <td>0.0</td>\n",
       "    </tr>\n",
       "    <tr>\n",
       "      <th>3</th>\n",
       "      <td>0.0</td>\n",
       "      <td>0.0</td>\n",
       "      <td>0.0</td>\n",
       "      <td>20.0</td>\n",
       "      <td>150.0</td>\n",
       "    </tr>\n",
       "    <tr>\n",
       "      <th>4</th>\n",
       "      <td>0.0</td>\n",
       "      <td>0.0</td>\n",
       "      <td>0.0</td>\n",
       "      <td>0.0</td>\n",
       "      <td>0.0</td>\n",
       "    </tr>\n",
       "  </tbody>\n",
       "</table>\n",
       "</div>"
      ],
      "text/plain": [
       "       1     2      3     4      5\n",
       "1  140.0  90.0    0.0   0.0    0.0\n",
       "2    0.0   0.0  160.0  90.0    0.0\n",
       "3    0.0   0.0    0.0  20.0  150.0\n",
       "4    0.0   0.0    0.0   0.0    0.0"
      ]
     },
     "metadata": {},
     "output_type": "display_data"
    },
    {
     "name": "stdout",
     "output_type": "stream",
     "text": [
      "Загальна вартість(F): 20800.0\n"
     ]
    }
   ],
   "source": [
    "\n",
    "# Початкові дані\n",
    "supply = [230, 250, 170, 150]\n",
    "demand = [140, 90, 160, 110, 150]\n",
    "\n",
    "costs = np.array([\n",
    "    [40, 19, 25, 25, 35],\n",
    "    [49, 26, 27, 18, 38],\n",
    "    [46, 27, 36, 40, 45],\n",
    "    [140, 90, 160, 110, 150]\n",
    "])\n",
    "\n",
    "# Виклик методу\n",
    "allocation = northwest_corner_method(supply, demand, costs)\n",
    "\n",
    "# Виведення кінцевого результату(оптимальний план)\n",
    "print(\"Оптимальний план(таблиця маршрутів):\")\n",
    "'''print(allocation)'''\n",
    "df = pd.DataFrame(allocation.reshape(4, 5))\n",
    "# змінюємо індексацію\n",
    "df.index = np.arange(1, df.shape[0] + 1)\n",
    "df.columns = np.arange(1, df.shape[1] + 1)\n",
    "display(df)\n",
    "\n",
    "print(\"Загальна вартість(F):\", calculate_total_cost(allocation, costs))"
   ]
  },
  {
   "cell_type": "markdown",
   "metadata": {},
   "source": [
    "* <h3> Завдання 2(задача 4). Метод потенціалів. </h3>\n",
    "Введення початкових значень для матриці маршрутів(вартості) та масивів постачання та потреб. Визначаємо довжини масивів."
   ]
  },
  {
   "cell_type": "code",
   "execution_count": 34,
   "metadata": {},
   "outputs": [],
   "source": [
    "# Початкові дані\n",
    "supply = [300, 250, 200] # Постачання\n",
    "demand = [210, 150, 120, 135, 135] # Потреби\n",
    "\n",
    "costs = [\n",
    "    [4, 8, 13, 2, 7],\n",
    "    [9, 4, 11, 9, 17],\n",
    "    [3, 16, 10, 1, 4]\n",
    "]\n",
    "\n",
    "suppliers = range(len(supply))\n",
    "consumers = range(len(demand))\n"
   ]
  },
  {
   "cell_type": "markdown",
   "metadata": {},
   "source": [
    "Метод для знаходження потенціалів та визначення від'ємних та додатніх значень."
   ]
  },
  {
   "cell_type": "code",
   "execution_count": 35,
   "metadata": {},
   "outputs": [],
   "source": [
    "\n",
    "costs = makeDict ([suppliers, consumers], costs, 0)\n",
    "\n",
    "prob = LpProblem(\"Transportation_Problem\", LpMinimize)\n",
    "\n",
    "routes = [(i, j) for i in suppliers for j in consumers]\n",
    "\n",
    "vars = LpVariable.dicts(\"Route\", (suppliers, consumers), 0, None, LpInteger)\n",
    "\n",
    "prob += (\n",
    "    lpSum([vars[w][b] * costs[w][b] for (w, b) in routes]),\n",
    "    \"Sum_of_Transporting_Costs\",\n",
    ")\n",
    "\n",
    "for s in suppliers:\n",
    "    prob += (\n",
    "        lpSum([vars[s][b] for b in consumers]) <=supply[s],\n",
    "        \"sum_of_Products_out_of_suppliers_%s\" % s,\n",
    "    )\n",
    "\n",
    "for c in consumers:\n",
    "    prob += (\n",
    "        lpSum([vars[w][c] for w in suppliers]) >=demand[c],\n",
    "        \"Sum_of_Products_into_consumer%s\" % c,\n",
    "    )\n"
   ]
  },
  {
   "cell_type": "markdown",
   "metadata": {},
   "source": [
    "Виклик методів та виведення результатів."
   ]
  },
  {
   "cell_type": "code",
   "execution_count": 37,
   "metadata": {},
   "outputs": [
    {
     "name": "stdout",
     "output_type": "stream",
     "text": [
      "Оптимальний план(таблиця маршрутів): \n"
     ]
    },
    {
     "data": {
      "text/html": [
       "<div>\n",
       "<style scoped>\n",
       "    .dataframe tbody tr th:only-of-type {\n",
       "        vertical-align: middle;\n",
       "    }\n",
       "\n",
       "    .dataframe tbody tr th {\n",
       "        vertical-align: top;\n",
       "    }\n",
       "\n",
       "    .dataframe thead th {\n",
       "        text-align: right;\n",
       "    }\n",
       "</style>\n",
       "<table border=\"1\" class=\"dataframe\">\n",
       "  <thead>\n",
       "    <tr style=\"text-align: right;\">\n",
       "      <th></th>\n",
       "      <th>1</th>\n",
       "      <th>2</th>\n",
       "      <th>3</th>\n",
       "      <th>4</th>\n",
       "      <th>5</th>\n",
       "    </tr>\n",
       "  </thead>\n",
       "  <tbody>\n",
       "    <tr>\n",
       "      <th>1</th>\n",
       "      <td>165.0</td>\n",
       "      <td>0.0</td>\n",
       "      <td>0.0</td>\n",
       "      <td>135.0</td>\n",
       "      <td>0.0</td>\n",
       "    </tr>\n",
       "    <tr>\n",
       "      <th>2</th>\n",
       "      <td>0.0</td>\n",
       "      <td>150.0</td>\n",
       "      <td>100.0</td>\n",
       "      <td>0.0</td>\n",
       "      <td>0.0</td>\n",
       "    </tr>\n",
       "    <tr>\n",
       "      <th>3</th>\n",
       "      <td>45.0</td>\n",
       "      <td>0.0</td>\n",
       "      <td>20.0</td>\n",
       "      <td>0.0</td>\n",
       "      <td>135.0</td>\n",
       "    </tr>\n",
       "  </tbody>\n",
       "</table>\n",
       "</div>"
      ],
      "text/plain": [
       "       1      2      3      4      5\n",
       "1  165.0    0.0    0.0  135.0    0.0\n",
       "2    0.0  150.0  100.0    0.0    0.0\n",
       "3   45.0    0.0   20.0    0.0  135.0"
      ]
     },
     "metadata": {},
     "output_type": "display_data"
    },
    {
     "name": "stdout",
     "output_type": "stream",
     "text": [
      "Загальна вартість(F): 3505.0\n"
     ]
    }
   ],
   "source": [
    "\n",
    "prob.solve()\n",
    "\n",
    "results = [v.varValue for v in prob.variables()]\n",
    "\n",
    "print(\"Оптимальний план(таблиця маршрутів): \")\n",
    "df = pd.DataFrame(np.array(results).reshape(3, 5))\n",
    "df.index = np.arange(1, df.shape[0] + 1)\n",
    "df.columns = np.arange(1, df.shape[1] + 1)\n",
    "display(df)\n",
    "\n",
    "print(\"Загальна вартість(F):\", value(prob.objective))\n"
   ]
  }
 ],
 "metadata": {
  "kernelspec": {
   "display_name": "base",
   "language": "python",
   "name": "python3"
  },
  "language_info": {
   "codemirror_mode": {
    "name": "ipython",
    "version": 3
   },
   "file_extension": ".py",
   "mimetype": "text/x-python",
   "name": "python",
   "nbconvert_exporter": "python",
   "pygments_lexer": "ipython3",
   "version": "3.11.5"
  }
 },
 "nbformat": 4,
 "nbformat_minor": 2
}
