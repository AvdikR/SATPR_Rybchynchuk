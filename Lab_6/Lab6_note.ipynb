{
 "cells": [
  {
   "cell_type": "markdown",
   "metadata": {},
   "source": [
    "Лабораторна робота №6. Задача 3.\n",
    "Додаємо бібліотеку SciPy для для роз'язання задач про призначення."
   ]
  },
  {
   "cell_type": "code",
   "execution_count": 53,
   "metadata": {},
   "outputs": [],
   "source": [
    "from scipy.optimize import linear_sum_assignment"
   ]
  },
  {
   "cell_type": "markdown",
   "metadata": {},
   "source": [
    "Створюємо матрицю на основі таблиці оцінок альтетрнатив(програмісти) за критеріями(програми). Виокристовуємо метод linear_sum_assignment для розбиття матриці на рядки та стовпчики та пошуку способу виконання програми кожним програмістом за мінімальний час."
   ]
  },
  {
   "cell_type": "code",
   "execution_count": 54,
   "metadata": {},
   "outputs": [],
   "source": [
    "# Матриця для задачі про призначення\n",
    "cost_matrix = [\n",
    "    [46, 59, 24, 62, 67],\n",
    "    [47, 56, 32, 55, 70],\n",
    "    [44, 52, 19, 61, 60],\n",
    "    [47, 59, 17, 64, 73],\n",
    "    [43, 65, 20, 60, 75]\n",
    "]\n",
    "\n",
    "programmers = [\"P1\", \"P2\", \"P3\", \"P4\", \"P5\"]\n",
    "programs = [\"p1\", \"p2\", \"p3\", \"p4\", \"p5\"]\n",
    "Min = 0\n",
    "\n",
    "# Вирішення задачі про призначення\n",
    "row_ind, col_ind = linear_sum_assignment(cost_matrix)"
   ]
  },
  {
   "cell_type": "markdown",
   "metadata": {},
   "source": [
    "Будую та вивожу в консоль матрицю у вигляді таблиці."
   ]
  },
  {
   "cell_type": "code",
   "execution_count": 55,
   "metadata": {},
   "outputs": [
    {
     "name": "stdout",
     "output_type": "stream",
     "text": [
      "Таблиця оцінок (Програміст/програма):\n",
      "     p1  p2  p3  p4  p5\n",
      "P1  [46, 59, 24, 62, 67]\n",
      "P2  [47, 56, 32, 55, 70]\n",
      "P3  [44, 52, 19, 61, 60]\n",
      "P4  [47, 59, 17, 64, 73]\n",
      "P5  [43, 65, 20, 60, 75]\n"
     ]
    }
   ],
   "source": [
    "# Виведення матриці з написами\n",
    "print(\"Таблиця оцінок (Програміст/програма):\")\n",
    "print(\"     \" + \"  \".join(programs))\n",
    "for i in range(len(cost_matrix)):\n",
    "    print(f\"{programmers[i]}  {cost_matrix[i]}\")"
   ]
  },
  {
   "cell_type": "markdown",
   "metadata": {},
   "source": [
    "Відкриваємо цикл та виводимо результат виконання задачі."
   ]
  },
  {
   "cell_type": "code",
   "execution_count": 56,
   "metadata": {},
   "outputs": [
    {
     "name": "stdout",
     "output_type": "stream",
     "text": [
      "Оптимальне призначення:\n",
      "Програміст 1 -> Програма 5\n",
      "Програміст 2 -> Програма 4\n",
      "Програміст 3 -> Програма 2\n",
      "Програміст 4 -> Програма 3\n",
      "Програміст 5 -> Програма 1\n",
      "\n",
      "Мінімальна оцінка:  234\n"
     ]
    }
   ],
   "source": [
    "# Виведення результатів\n",
    "print(\"Оптимальне призначення:\")\n",
    "for i in range(len(row_ind)):\n",
    "    programmer_index = row_ind[i]\n",
    "    program_index = col_ind[i]\n",
    "    cost = cost_matrix[programmer_index][program_index]\n",
    "    Min += cost\n",
    "    print(f\"Програміст {row_ind[i] + 1} -> Програма {col_ind[i] + 1}\")\n",
    "    \n",
    "print(\"\")\n",
    "print(\"Мінімальна оцінка: \", Min)"
   ]
  }
 ],
 "metadata": {
  "kernelspec": {
   "display_name": "base",
   "language": "python",
   "name": "python3"
  },
  "language_info": {
   "codemirror_mode": {
    "name": "ipython",
    "version": 3
   },
   "file_extension": ".py",
   "mimetype": "text/x-python",
   "name": "python",
   "nbconvert_exporter": "python",
   "pygments_lexer": "ipython3",
   "version": "3.11.5"
  }
 },
 "nbformat": 4,
 "nbformat_minor": 2
}
