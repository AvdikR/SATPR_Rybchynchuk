{
 "cells": [
  {
   "cell_type": "markdown",
   "metadata": {},
   "source": [
    "Лабораторна робота №7. Методи голосування. Введення початкового профілю голосування(Варіант 3)."
   ]
  },
  {
   "cell_type": "code",
   "execution_count": 2,
   "metadata": {},
   "outputs": [],
   "source": [
    "# Заданий профіль голосування\n",
    "votes = [\n",
    "    (5, ['B', 'C', 'D', 'A']),\n",
    "    (6, ['C', 'A', 'B', 'D']),\n",
    "    (7, ['A', 'B', 'C', 'D']),\n",
    "    (2, ['B', 'C', 'D', 'A']),\n",
    "]\n"
   ]
  },
  {
   "cell_type": "markdown",
   "metadata": {},
   "source": [
    "Правило відносної більшості та абсолютної більшості(„відносна більшість у два тури”, відбувається якщо не один з переможців не набрів 50% +1 голосів). "
   ]
  },
  {
   "cell_type": "code",
   "execution_count": 3,
   "metadata": {},
   "outputs": [],
   "source": [
    "# Відносна більшість\n",
    "def relative_majority(profile):\n",
    "    return max(profile[0][1], key=lambda x: sum(vote[0] for vote in profile if vote[1][0] == x))\n",
    "\n",
    "# Абсолютна більшість\n",
    "def absolute_majority(profile):\n",
    "    remaining_candidates = list(profile[0][1])  # Кандидати, які ще не вийшли з гри\n",
    "    votes_required = sum(vote[0] for vote in profile) // 2 + 1  # Потрібна кількість голосів для перемоги\n",
    "    while len(remaining_candidates) > 1:\n",
    "        candidate_scores = {candidate: 0 for candidate in remaining_candidates}\n",
    "        for vote in profile:\n",
    "            for i, candidate in enumerate(remaining_candidates):\n",
    "                if vote[1][0] == candidate:\n",
    "                    candidate_scores[candidate] += vote[0]\n",
    "                    break\n",
    "        winner = min(candidate_scores, key=candidate_scores.get)\n",
    "        if candidate_scores[winner] >= votes_required:\n",
    "            return winner\n",
    "        else:\n",
    "            remaining_candidates.remove(winner)\n",
    "    return remaining_candidates[0]\n"
   ]
  },
  {
   "cell_type": "markdown",
   "metadata": {},
   "source": [
    "Правило Борда. Обчислює очки серед кандидатів(стовпчиків) та виводить переможця, що набрів найбільшу кількість."
   ]
  },
  {
   "cell_type": "code",
   "execution_count": 4,
   "metadata": {},
   "outputs": [],
   "source": [
    "# Правило Борда    \n",
    "def borda(profile):\n",
    "    num_candidates = len(profile[0][1])\n",
    "    scores = {candidate: 0 for candidate in profile[0][1]}\n",
    "\n",
    "    for vote in profile:\n",
    "        for i, candidate in enumerate(vote[1]):\n",
    "            scores[candidate] += num_candidates - i - 1\n",
    "\n",
    "    return max(scores, key=scores.get)\n",
    "\n"
   ]
  },
  {
   "cell_type": "markdown",
   "metadata": {},
   "source": [
    "Правило Кондорсе. У випадку рівності перемог (кожен з кандидатів у когось перемагає, а комусь  програє) за визначенням переможця за Кондорсе (переможця Кондорсе) не існує. Це називається «парадоксів голосування». В цьому випадку програма виводить None."
   ]
  },
  {
   "cell_type": "code",
   "execution_count": 5,
   "metadata": {},
   "outputs": [],
   "source": [
    "# Правило Кондорсе\n",
    "def condorcet(profile):\n",
    "    winners = []\n",
    "    for candidate in profile[0][1]:\n",
    "        if all(candidate in vote[1][:2] for vote in profile):\n",
    "            winners.append(candidate)\n",
    "# Перевірка на кількість переможців\n",
    "    if len(winners) == 1:\n",
    "        return winners[0]\n",
    "    elif len(winners) == 2:\n",
    "        return winners\n",
    "    else:\n",
    "        return None \n"
   ]
  },
  {
   "cell_type": "markdown",
   "metadata": {},
   "source": [
    "Правила Копленда та Сімпсона. Використовують подібні методи знаходження переможця серед кандидатів, тому зазвичай виводять похожі результати. А саме обчислюємо кількість виборців які проголосували що певний кандидат знаходиться нижче за іншого."
   ]
  },
  {
   "cell_type": "code",
   "execution_count": 7,
   "metadata": {},
   "outputs": [],
   "source": [
    "# Правило Копленда\n",
    "def copeland(profile):\n",
    "    scores = {candidate: 0 for candidate in profile[0][1]}\n",
    "    defeated_count = {candidate: 0 for candidate in profile[0][1]}\n",
    "    \n",
    "    for i, candidate1 in enumerate(profile[0][1]):\n",
    "        for j, candidate2 in enumerate(profile[0][1]):\n",
    "            if i != j:\n",
    "                for vote in profile:\n",
    "                    if candidate1 in vote[1] and candidate2 in vote[1]:\n",
    "                        if vote[1].index(candidate1) < vote[1].index(candidate2):\n",
    "                            scores[candidate1] += 1\n",
    "                            defeated_count[candidate2] += 1\n",
    "                        elif vote[1].index(candidate1) > vote[1].index(candidate2):\n",
    "                            scores[candidate2] += 1\n",
    "                            defeated_count[candidate1] += 1\n",
    "\n",
    "    winners = [candidate for candidate in scores if scores[candidate] == max(scores.values())]\n",
    "    return winners, defeated_count\n",
    "\n",
    "# Правило Сімпсона\n",
    "def simpson(profile):\n",
    "    scores = {candidate: 0 for candidate in profile[0][1]}\n",
    "    defeated_count = {candidate: 0 for candidate in profile[0][1]}\n",
    "\n",
    "    for i, candidate1 in enumerate(profile[0][1]):\n",
    "        for j, candidate2 in enumerate(profile[0][1]):\n",
    "            if i != j:\n",
    "                for vote in profile:\n",
    "                    if candidate1 in vote[1] and candidate2 in vote[1]:\n",
    "                        try:\n",
    "                            if vote[1].index(candidate1) < vote[1].index(candidate2):\n",
    "                                scores[candidate1] += 1\n",
    "                                defeated_count[candidate2] += 1\n",
    "                            elif vote[1].index(candidate1) > vote[1].index(candidate2):\n",
    "                                scores[candidate2] += 1\n",
    "                                defeated_count[candidate1] += 1\n",
    "                        except ValueError:\n",
    "                            # Ігноруємо помилку, якщо кандидат не знайдений в голосі\n",
    "                            pass\n",
    "\n",
    "    winners = [candidate for candidate in scores if scores[candidate] == max(scores.values())]\n",
    "    return winners, defeated_count\n"
   ]
  },
  {
   "cell_type": "markdown",
   "metadata": {},
   "source": [
    "Виведення початкового профілю кандидатів(4) та виборців(20). Виведення результатів голоуванні при використанні різних методів(правил) за допомогою цикла."
   ]
  },
  {
   "cell_type": "code",
   "execution_count": 8,
   "metadata": {},
   "outputs": [
    {
     "name": "stdout",
     "output_type": "stream",
     "text": [
      "Profile:\n",
      "[(5, ['B', 'C', 'D', 'A']), (6, ['C', 'A', 'B', 'D']), (7, ['A', 'B', 'C', 'D']), (2, ['B', 'C', 'D', 'A'])]\n",
      "\n",
      "Rules(methods):\n",
      "Relative Majority: B\n",
      "Absolute Majority: A\n",
      "Borda: B\n",
      "Condorcet: None\n",
      "Copeland: (['B'], {'B': 6, 'C': 8, 'D': 20, 'A': 14})\n",
      "Simpson: (['B'], {'B': 6, 'C': 8, 'D': 20, 'A': 14})\n"
     ]
    }
   ],
   "source": [
    "# Початковий профіль кандидатів та виборців\n",
    "print(\"Profile:\")\n",
    "print(votes)\n",
    "print(\"\")\n",
    "\n",
    "# Визначення переможців за різними методами\n",
    "print(\"Rules(methods):\")\n",
    "winners = {\n",
    "    \"Relative Majority\": relative_majority(votes),\n",
    "    \"Absolute Majority\": absolute_majority(votes),\n",
    "    \"Borda\": borda(votes),\n",
    "    \"Condorcet\": condorcet(votes),\n",
    "    \"Copeland\": copeland(votes),\n",
    "    \"Simpson\": simpson(votes),\n",
    "}\n",
    "# Виведення переможців\n",
    "for method, winner in winners.items():\n",
    "    print(f\"{method}: {winner}\")"
   ]
  }
 ],
 "metadata": {
  "kernelspec": {
   "display_name": "base",
   "language": "python",
   "name": "python3"
  },
  "language_info": {
   "codemirror_mode": {
    "name": "ipython",
    "version": 3
   },
   "file_extension": ".py",
   "mimetype": "text/x-python",
   "name": "python",
   "nbconvert_exporter": "python",
   "pygments_lexer": "ipython3",
   "version": "3.11.5"
  }
 },
 "nbformat": 4,
 "nbformat_minor": 2
}
